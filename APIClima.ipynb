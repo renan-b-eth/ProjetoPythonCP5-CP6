{
 "cells": [
  {
   "cell_type": "code",
   "execution_count": 1,
   "metadata": {},
   "outputs": [
    {
     "name": "stdout",
     "output_type": "stream",
     "text": [
      "Collecting requests\n",
      "  Using cached requests-2.31.0-py3-none-any.whl.metadata (4.6 kB)\n",
      "Requirement already satisfied: charset-normalizer<4,>=2 in c:\\python312\\lib\\site-packages (from requests) (3.3.2)\n",
      "Requirement already satisfied: idna<4,>=2.5 in c:\\python312\\lib\\site-packages (from requests) (3.6)\n",
      "Requirement already satisfied: urllib3<3,>=1.21.1 in c:\\python312\\lib\\site-packages (from requests) (2.2.1)\n",
      "Collecting certifi>=2017.4.17 (from requests)\n",
      "  Using cached certifi-2024.2.2-py3-none-any.whl.metadata (2.2 kB)\n",
      "Using cached requests-2.31.0-py3-none-any.whl (62 kB)\n",
      "Using cached certifi-2024.2.2-py3-none-any.whl (163 kB)\n",
      "Installing collected packages: certifi, requests\n",
      "Successfully installed certifi-2024.2.2 requests-2.31.0\n"
     ]
    }
   ],
   "source": [
    "!pip install requests\n"
   ]
  },
  {
   "cell_type": "code",
   "execution_count": 22,
   "metadata": {},
   "outputs": [],
   "source": [
    "import requests\n",
    "\n",
    "api_key = '2c29ccffc7528a922d96bc37334167a7'\n"
   ]
  },
  {
   "cell_type": "code",
   "execution_count": 49,
   "metadata": {},
   "outputs": [
    {
     "name": "stdout",
     "output_type": "stream",
     "text": [
      "Previsão do tempo para Cananeia\n",
      "Atual: 23°C\n",
      "Máxima Atual: 23°C\n",
      "Mínima Atual: 23°C\n"
     ]
    }
   ],
   "source": [
    "city = input('Enter city name: ')\n",
    "\n",
    "url = f'http://api.openweathermap.org/data/2.5/weather?q={city}&appid={api_key}'\n",
    "\n",
    "response = requests.get(url)\n",
    "\n",
    "if response.status_code == 200:\n",
    "    data = response.json()\n",
    "    temp = data['main']['temp']\n",
    "    temp_min = data['main']['temp_min']\n",
    "    temp_max = data['main']['temp_max']\n",
    "    temp = round(temp-273.15)\n",
    "    print(f'Previsão do tempo para {city}')\n",
    "    print(f'Atual: {temp}°C')\n",
    "    temp_max = round(temp_max-273.15)\n",
    "    temp_min = round(temp_min-273.15)\n",
    "    print(f'Máxima Atual: {temp_max}°C')\n",
    "    print(f'Mínima Atual: {temp_min}°C')\n",
    "else:\n",
    "    print('Error fetching weather data')\n",
    "\n",
    "\n"
   ]
  }
 ],
 "metadata": {
  "kernelspec": {
   "display_name": "Python 3",
   "language": "python",
   "name": "python3"
  },
  "language_info": {
   "codemirror_mode": {
    "name": "ipython",
    "version": 3
   },
   "file_extension": ".py",
   "mimetype": "text/x-python",
   "name": "python",
   "nbconvert_exporter": "python",
   "pygments_lexer": "ipython3",
   "version": "3.11.4"
  }
 },
 "nbformat": 4,
 "nbformat_minor": 2
}
