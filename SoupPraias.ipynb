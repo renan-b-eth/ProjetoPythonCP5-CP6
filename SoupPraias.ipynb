{
 "cells": [
  {
   "cell_type": "code",
   "execution_count": 1,
   "metadata": {},
   "outputs": [
    {
     "name": "stdout",
     "output_type": "stream",
     "text": [
      "Collecting unidecode\n",
      "  Downloading Unidecode-1.3.8-py3-none-any.whl (235 kB)\n",
      "     ------------------------------------- 235.5/235.5 kB 15.0 MB/s eta 0:00:00\n",
      "Installing collected packages: unidecode\n",
      "Successfully installed unidecode-1.3.8\n",
      "Requirement already satisfied: beautifulsoup4 in c:\\programdata\\anaconda3\\lib\\site-packages (4.12.2)\n",
      "Requirement already satisfied: soupsieve>1.2 in c:\\programdata\\anaconda3\\lib\\site-packages (from beautifulsoup4) (2.4)\n"
     ]
    }
   ],
   "source": [
    "!pip install unidecode\n",
    "!pip install beautifulsoup4"
   ]
  },
  {
   "cell_type": "code",
   "execution_count": 35,
   "metadata": {},
   "outputs": [
    {
     "name": "stdout",
     "output_type": "stream",
     "text": [
      "{'\\nUbatuba\\nPrópria - Picinguaba\\xa0\\nPrópria - Lagoa Prumirim\\xa0\\nPrópria - Prumirim\\xa0\\nPrópria - Félix\\xa0\\nPrópria - Itamambuca\\xa0\\nPrópria - Rio Itamambuca\\xa0\\nPrópria - Vermelha do Norte\\xa0\\nPrópria - Perequê-açu\\xa0\\nPrópria - Iperoig\\xa0\\nImprópria - ItaguáAv. Leovegildo, 240\\nImprópria - ItaguaAv. Leovegildo, 1724\\nPrópria - Tenório\\xa0\\nPrópria - Vermelha\\xa0\\nPrópria - Grande\\xa0\\nPrópria - Toninhas\\xa0\\nPrópria - Enseada\\xa0\\nPrópria - Santa Rita\\xa0\\nPrópria - Perequê-mirim\\xa0\\nPrópria - Sununga\\xa0\\nPrópria - Lázaro\\xa0\\nPrópria - domingas Dias\\xa0\\nPrópria - Dura\\xa0\\nPrópria - Fortaleza\\xa0\\nPrópria - LagoinhaCamping\\nPrópria - Sapé\\xa0\\nPrópria - Maranduba\\xa0\\nPrópria - Pulso\\xa0\\nPrópria - Praia das PalmasI. Anchieta\\nPrópria - Praia do SapateiroI. Anchieta\\nPrópria - Praia do PresidioI. Anchieta\\nPrópria - Praia do EngenhoI. Anchieta\\nPrópria - Praia de ForaI. Anchieta\\nPrópria - Praia do SulI. Anchieta\\nPrópria - Prainha do LesteI. Anchieta\\nAtualizado em 12/05/2024\\n': 'UbatubaPrópria - Picinguaba\\xa0Própria - Lagoa Prumirim\\xa0Própria - Prumirim\\xa0Própria - Félix\\xa0Própria - Itamambuca\\xa0Própria - Rio Itamambuca\\xa0Própria - Vermelha do Norte\\xa0Própria - Perequê-açu\\xa0Própria - Iperoig\\xa0Imprópria - ItaguáAv. Leovegildo, 240Imprópria - ItaguaAv. Leovegildo, 1724Própria - Tenório\\xa0Própria - Vermelha\\xa0Própria - Grande\\xa0Própria - Toninhas\\xa0Própria - Enseada\\xa0Própria - Santa Rita\\xa0Própria - Perequê-mirim\\xa0Própria - Sununga\\xa0Própria - Lázaro\\xa0Própria - domingas Dias\\xa0Própria - Dura\\xa0Própria - Fortaleza\\xa0Própria - LagoinhaCampingPrópria - Sapé\\xa0Própria - Maranduba\\xa0Própria - Pulso\\xa0Própria - Praia das PalmasI. AnchietaPrópria - Praia do SapateiroI. AnchietaPrópria - Praia do PresidioI. AnchietaPrópria - Praia do EngenhoI. AnchietaPrópria - Praia de ForaI. AnchietaPrópria - Praia do SulI. AnchietaPrópria - Prainha do LesteI. AnchietaAtualizado em 12/05/2024'}\n",
      "{'Picinguaba\\nPrópria': ' - Ubatuba - Própria', '\\nCaraguatatuba\\nPrópria - TabatingaCond. Gaivotas\\nPrópria - Mocoóca\\xa0\\nPrópria - Cocanha\\xa0\\nPrópria - MassaguaçuAv. M. H. Carvalho\\nPrópria - Capricórnio\\xa0\\nPrópria - Lagoa Azul\\xa0\\nPrópria - Martim de Sá\\xa0\\nPrópria - Prainha\\xa0\\nPrópria - Centro\\xa0\\nPrópria - Indaiá\\xa0\\nPrópria - Pan Brasil\\xa0\\nPrópria - Palmeiras\\xa0\\nPrópria - Porto Novo\\xa0\\nAtualizado em 12/05/2024\\n': 'CaraguatatubaPrópria - TabatingaCond. GaivotasPrópria - Mocoóca\\xa0Própria - Cocanha\\xa0Própria - MassaguaçuAv. M. H. CarvalhoPrópria - Capricórnio\\xa0Própria - Lagoa Azul\\xa0Própria - Martim de Sá\\xa0Própria - Prainha\\xa0Própria - Centro\\xa0Própria - Indaiá\\xa0Própria - Pan Brasil\\xa0Própria - Palmeiras\\xa0Própria - Porto Novo\\xa0Atualizado em 12/05/2024'}\n",
      "{'TabatingaCond. Gaivotas\\nPrópria': ' - Caraguatatuba - Própria', '\\nSão Sebastião\\nImprópria - Prainha\\xa0\\nPrópria - Cigarras\\xa0\\nImprópria - São Francisco\\xa0\\nPrópria - Arrastão\\xa0\\nPrópria - Pontal da Cruz\\xa0\\nPrópria - deserta\\xa0\\nPrópria - Porto Grande\\xa0\\nPrópria - Preta do Norte\\xa0\\nPrópria - Grande\\xa0\\nPrópria - Barequeçaba\\xa0\\nPrópria - Guaecá\\xa0\\nPrópria - Toque-toque Grande\\xa0\\nPrópria - Toque-toque Pequeno\\xa0\\nPrópria - Santiago\\xa0\\nPrópria - Paúba\\xa0\\nPrópria - MaresiasTrav. Xv\\nPrópria - Boiçucanga\\xa0\\nPrópria - Camburizinho\\xa0\\nPrópria - Camburi\\xa0\\nPrópria - Baleia\\xa0\\nPrópria - Saí\\xa0\\nPrópria - Preta\\xa0\\nPrópria - JuqueíR. Cristiana\\nPrópria - Una\\xa0\\nPrópria - Engenho\\xa0\\nPrópria - Juréia do Norte\\xa0\\nPrópria - BoracéiaR. Cubatão\\nAtualizado em 12/05/2024\\n': 'São SebastiãoImprópria - Prainha\\xa0Própria - Cigarras\\xa0Imprópria - São Francisco\\xa0Própria - Arrastão\\xa0Própria - Pontal da Cruz\\xa0Própria - deserta\\xa0Própria - Porto Grande\\xa0Própria - Preta do Norte\\xa0Própria - Grande\\xa0Própria - Barequeçaba\\xa0Própria - Guaecá\\xa0Própria - Toque-toque Grande\\xa0Própria - Toque-toque Pequeno\\xa0Própria - Santiago\\xa0Própria - Paúba\\xa0Própria - MaresiasTrav. XvPrópria - Boiçucanga\\xa0Própria - Camburizinho\\xa0Própria - Camburi\\xa0Própria - Baleia\\xa0Própria - Saí\\xa0Própria - Preta\\xa0Própria - JuqueíR. CristianaPrópria - Una\\xa0Própria - Engenho\\xa0Própria - Juréia do Norte\\xa0Própria - BoracéiaR. CubatãoAtualizado em 12/05/2024'}\n",
      "{'Prainha\\nPrópria': ' - São Sebastião - Imprópria', \"\\nIlhabela\\nPrópria - Armação\\xa0\\nPrópria - Pinto\\xa0\\nPrópria - Sino\\xa0\\nPrópria - Siriúba\\xa0\\nPrópria - Viana\\xa0\\nPrópria - Barreiros Norte\\xa0\\nPrópria - Barreiros Sul\\xa0\\nPrópria - Saco da Capela\\xa0\\nPrópria - Engenho D'água\\xa0\\nPrópria - Itaquanduba\\xa0\\nPrópria - Itaguaçu\\xa0\\nPrópria - Perequê\\xa0\\nImprópria - Ilha das Cabras\\xa0\\nPrópria - Portinho\\xa0\\nPrópria - Feiticeira\\xa0\\nPrópria - Julião\\xa0\\nPrópria - Grande\\xa0\\nPrópria - Curral\\xa0\\nPrópria - Veloso\\xa0\\nAtualizado em 12/05/2024\\n\": \"IlhabelaPrópria - Armação\\xa0Própria - Pinto\\xa0Própria - Sino\\xa0Própria - Siriúba\\xa0Própria - Viana\\xa0Própria - Barreiros Norte\\xa0Própria - Barreiros Sul\\xa0Própria - Saco da Capela\\xa0Própria - Engenho D'água\\xa0Própria - Itaquanduba\\xa0Própria - Itaguaçu\\xa0Própria - Perequê\\xa0Imprópria - Ilha das Cabras\\xa0Própria - Portinho\\xa0Própria - Feiticeira\\xa0Própria - Julião\\xa0Própria - Grande\\xa0Própria - Curral\\xa0Própria - Veloso\\xa0Atualizado em 12/05/2024\"}\n",
      "{'Armação\\nPrópria': ' - Ilhabela - Própria', '\\nBertioga\\nPrópria - BoracéiaSul\\nPrópria - Guaratuba\\xa0\\nPrópria - São LourençoR. 2\\nPrópria - EnseadaR. Costabili\\nAtualizado em 12/05/2024\\n': 'BertiogaPrópria - BoracéiaSulPrópria - Guaratuba\\xa0Própria - São LourençoR. 2Própria - EnseadaR. CostabiliAtualizado em 12/05/2024'}\n",
      "{'BoracéiaSul\\nPrópria': ' - Bertioga - Própria', '\\nGuarujá\\nPrópria - Iporanga\\xa0\\nImprópria - Perequê\\xa0\\nPrópria - Pernambuco\\xa0\\nPrópria - EnseadaAv. Sta. Maria\\nPrópria - PitangueirasR. S. Valadão\\nPrópria - Astúrias\\xa0\\nPrópria - Tombo\\xa0\\nPrópria - Guaiúba\\xa0\\nAtualizado em 12/05/2024\\n': 'GuarujáPrópria - Iporanga\\xa0Imprópria - Perequê\\xa0Própria - Pernambuco\\xa0Própria - EnseadaAv. Sta. MariaPrópria - PitangueirasR. S. ValadãoPrópria - Astúrias\\xa0Própria - Tombo\\xa0Própria - Guaiúba\\xa0Atualizado em 12/05/2024'}\n",
      "{'Iporanga\\nImprópria': ' - Guarujá - Própria', '\\nSantos\\nPrópria - Ponta da Praia\\xa0\\nPrópria - Aparecida\\xa0\\nPrópria - Embaré\\xa0\\nPrópria - Boqueirão\\xa0\\nPrópria - Gonzaga\\xa0\\nPrópria - José MeninoR. F. Ozanan\\nAtualizado em 12/05/2024\\n': 'SantosPrópria - Ponta da Praia\\xa0Própria - Aparecida\\xa0Própria - Embaré\\xa0Própria - Boqueirão\\xa0Própria - Gonzaga\\xa0Própria - José MeninoR. F. OzananAtualizado em 12/05/2024'}\n",
      "{'Ponta da Praia\\nPrópria': ' - Santos - Própria', '\\nSão Vicente\\nPrópria - Praia da Divisa\\xa0\\nPrópria - ItararéPosto 2\\nPrópria - Praia da Ilha Porchat\\xa0\\nImprópria - Milionários\\xa0\\nImprópria - Gonzaguinha\\xa0\\nImprópria - PrainhaAv. S. Brito\\nAtualizado em 12/05/2024\\n': 'São VicentePrópria - Praia da Divisa\\xa0Própria - ItararéPosto 2Própria - Praia da Ilha Porchat\\xa0Imprópria - Milionários\\xa0Imprópria - Gonzaguinha\\xa0Imprópria - PrainhaAv. S. BritoAtualizado em 12/05/2024'}\n",
      "{'Praia da Divisa\\nPrópria': ' - São Vicente - Própria', '\\nPraia Grande\\nPrópria - Canto do Forte\\xa0\\nImprópria - Boqueirão\\xa0\\nPrópria - Guilhermina\\xa0\\nPrópria - Aviação\\xa0\\nPrópria - Vila Tupi\\xa0\\nPrópria - Ocian\\xa0\\nPrópria - Vila Mirim\\xa0\\nPrópria - Maracanã\\xa0\\nPrópria - Vila Caiçara\\xa0\\nPrópria - Real\\xa0\\nPrópria - Balneário Flórida\\xa0\\nPrópria - Jardim Solemar\\xa0\\nAtualizado em 12/05/2024\\n': 'Praia GrandePrópria - Canto do Forte\\xa0Imprópria - Boqueirão\\xa0Própria - Guilhermina\\xa0Própria - Aviação\\xa0Própria - Vila Tupi\\xa0Própria - Ocian\\xa0Própria - Vila Mirim\\xa0Própria - Maracanã\\xa0Própria - Vila Caiçara\\xa0Própria - Real\\xa0Própria - Balneário Flórida\\xa0Própria - Jardim Solemar\\xa0Atualizado em 12/05/2024'}\n",
      "{'Canto do Forte\\nImprópria': ' - Praia Grande - Própria', '\\nMongaguá\\nPrópria - ItapoãVila S. Paulo\\nPrópria - Central\\xa0\\nPrópria - Vera Cruz\\xa0\\nPrópria - Santa Eugênia\\xa0\\nPrópria - Itaóca\\xa0\\nPrópria - Agenor de Campos\\xa0\\nPrópria - Flórida Mirim\\xa0\\nAtualizado em 12/05/2024\\n': 'MongaguáPrópria - ItapoãVila S. PauloPrópria - Central\\xa0Própria - Vera Cruz\\xa0Própria - Santa Eugênia\\xa0Própria - Itaóca\\xa0Própria - Agenor de Campos\\xa0Própria - Flórida Mirim\\xa0Atualizado em 12/05/2024'}\n",
      "{'ItapoãVila S. Paulo\\nPrópria': ' - Mongaguá - Própria', '\\nItanhaém\\nPrópria - Campos Elíseos\\xa0\\nPrópria - SuarãoAfpesp\\nPrópria - Parque Balneário\\xa0\\nPrópria - Centro\\xa0\\nPrópria - Praia dos Pescadores\\xa0\\nPrópria - Sonho\\xa0\\nPrópria - Jardim Cibratel\\xa0\\nPrópria - Estância Balneária\\xa0\\nPrópria - Jardim São Fernando\\xa0\\nPrópria - Jardim Regina\\xa0\\nPrópria - Balneário Gaivota\\xa0\\nAtualizado em 12/05/2024\\n': 'ItanhaémPrópria - Campos Elíseos\\xa0Própria - SuarãoAfpespPrópria - Parque Balneário\\xa0Própria - Centro\\xa0Própria - Praia dos Pescadores\\xa0Própria - Sonho\\xa0Própria - Jardim Cibratel\\xa0Própria - Estância Balneária\\xa0Própria - Jardim São Fernando\\xa0Própria - Jardim Regina\\xa0Própria - Balneário Gaivota\\xa0Atualizado em 12/05/2024'}\n",
      "{'Campos Elíseos\\nPrópria': ' - Itanhaém - Própria', '\\nPeruíbe\\nPrópria - PeruíbeAv. S. João\\nPrópria - Prainha\\xa0\\nPrópria - Guaraú\\xa0\\nAtualizado em 12/05/2024\\n': 'PeruíbePrópria - PeruíbeAv. S. JoãoPrópria - Prainha\\xa0Própria - Guaraú\\xa0Atualizado em 12/05/2024'}\n",
      "{'PeruíbeAv. S. João\\nPrópria': ' - Peruíbe - Própria', '\\nIguape\\nPrópria - Juréia\\xa0\\nAtualizado em 21/04/2024\\n': 'IguapePrópria - Juréia\\xa0Atualizado em 21/04/2024'}\n",
      "{'Juréia\\nAtualizado em 21/04/2024\\n': ' - Iguape - Própria', '\\nIlha Comprida\\nPrópria - Balneário Adriana\\xa0\\nPrópria - Centro\\xa0\\nPrópria - Pontal\\xa0\\nPrópria - PrainhaBalsa\\nPrópria - Lagoa Balneário Adriana\\xa0\\nPrópria - Lagoa do Parque Linear\\xa0\\nAtualizado em 21/04/2024\\n': 'Ilha CompridaPrópria - Balneário Adriana\\xa0Própria - Centro\\xa0Própria - Pontal\\xa0Própria - PrainhaBalsaPrópria - Lagoa Balneário Adriana\\xa0Própria - Lagoa do Parque Linear\\xa0Atualizado em 21/04/2024'}\n",
      "{'Balneário Adriana\\nPrópria': ' - Ilha Comprida - Própria', '\\nCubatão\\nPrópria - Rio Perequê\\xa0\\nAtualizado em 14/04/2024\\n': 'CubatãoPrópria - Rio Perequê\\xa0Atualizado em 14/04/2024'}\n"
     ]
    }
   ],
   "source": [
    "import requests\n",
    "from bs4 import BeautifulSoup\n",
    "import warnings\n",
    "\n",
    "\n",
    "# URL da página que você deseja consumir\n",
    "url = 'https://praialimpa.net/sao-paulo/'\n",
    "\n",
    "# Lista de praias para buscar\n",
    "praias = [\"Ubatuba, Caraguatatuba\", \"São Sebastião\", \"Ilhabela\", \"Bertioga\", \"Guarujá\", \"Santos\", \"São Vicente\", \"Praia Grande\", \"Mongaguá\", \"Itanhaéma\", \"Peruíbe\", \"Ilha Comprida\", \"Cubatão\"]\n",
    "\n",
    "# Para ignorar o aviso de warnings\n",
    "warnings.filterwarnings(\"ignore\", message=\"Unverified HTTPS request\")\n",
    "\n",
    "response = requests.get(url, verify=False)\n",
    "response.encoding = 'UTF-8'\n",
    "\n",
    "if response.status_code == 200:\n",
    "    soup = BeautifulSoup(response.text, 'html.parser')\n",
    "    paragraphs = soup.find_all('section')\n",
    "\n",
    "    # Dicionário final para armazenar todas as praias e suas condições\n",
    "    dicionario_final = {}\n",
    "    dic = {}\n",
    "    dic3 = {}\n",
    "    dicformatado = {}\n",
    "\n",
    "    for p in paragraphs:\n",
    "        texto_formatado = p.text.replace('Própria', 'Própria - ').replace('Imprópria', 'Imprópria - ')\n",
    "        texto_formatado2 = texto_formatado.replace('\\n', ' - ')\n",
    "        dic3[texto_formatado2] = texto_formatado\n",
    "        print(dic3)\n",
    "        propria = texto_formatado.split(\" - \")[0]\n",
    "        proria2 = propria.replace('\\n', ' - ')\n",
    "        nome_da_praia = texto_formatado.split(\" - \")[1]\n",
    "        nome_praia_certo = nome_da_praia.replace('\\xa0', '')\n",
    "        dic[nome_praia_certo] = proria2\n",
    "        ultimo_valor_dic =  list(dic.values())[-1]\n",
    "        dic3 = {}\n",
    "        dic3[nome_praia_certo] = ultimo_valor_dic\n",
    "        #dic3.values() para puxar os valores\n",
    "        # list(dic3.values())[0] puxa o valor especifico\n",
    "        \n",
    "\n",
    "        for praia in praias:\n",
    "            if praia in texto_formatado:\n",
    "                palavras = texto_formatado.splitlines()\n",
    "\n",
    "                for linha in palavras:\n",
    "                    if linha.startswith(\"Imprópria\") or linha.startswith(\"Própria\"):\n",
    "                        palavra_impropria_propria = linha.split(\" - \")[0]\n",
    "                        nome_da_praia = linha.split(\" - \")[1]\n",
    "                        nome_praia2 = nome_da_praia.replace('\\xa0', '')\n",
    "\n",
    "                        # Atualiza o dicionário final com a condição da praia\n",
    "                        dicionario_final[nome_praia2] = palavra_impropria_propria\n",
    "\n",
    "                        break\n",
    "\n",
    "    # Imprime o dicionário final\n",
    "    #print(dicionario_final)\n",
    "    \n",
    "else:\n",
    "    print(f\"Erro ao acessar a página: {response.status_code}\")\n",
    "\n",
    "    "
   ]
  },
  {
   "cell_type": "code",
   "execution_count": null,
   "metadata": {},
   "outputs": [],
   "source": []
  }
 ],
 "metadata": {
  "kernelspec": {
   "display_name": "Python 3",
   "language": "python",
   "name": "python3"
  },
  "language_info": {
   "codemirror_mode": {
    "name": "ipython",
    "version": 3
   },
   "file_extension": ".py",
   "mimetype": "text/x-python",
   "name": "python",
   "nbconvert_exporter": "python",
   "pygments_lexer": "ipython3",
   "version": "3.10.9"
  }
 },
 "nbformat": 4,
 "nbformat_minor": 2
}
