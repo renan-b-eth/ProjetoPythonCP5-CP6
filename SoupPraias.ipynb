{
 "cells": [
  {
   "cell_type": "code",
   "execution_count": 12,
   "metadata": {},
   "outputs": [
    {
     "name": "stdout",
     "output_type": "stream",
     "text": [
      "Requirement already satisfied: unidecode in c:\\python312\\lib\\site-packages (1.3.8)\n",
      "Requirement already satisfied: beautifulsoup4 in c:\\python312\\lib\\site-packages (4.12.3)\n",
      "Requirement already satisfied: soupsieve>1.2 in c:\\python312\\lib\\site-packages (from beautifulsoup4) (2.5)\n"
     ]
    }
   ],
   "source": [
    "!pip install unidecode\n",
    "!pip install beautifulsoup4"
   ]
  },
  {
   "cell_type": "code",
   "execution_count": 15,
   "metadata": {},
   "outputs": [
    {
     "name": "stdout",
     "output_type": "stream",
     "text": [
      "\n",
      "Ubatuba\n",
      "Própria - Picinguaba \n",
      "Própria - Lagoa Prumirim \n",
      "Própria - Prumirim \n",
      "Própria - Félix \n",
      "Própria - Itamambuca \n",
      "ImprópriaRio Itamambuca \n",
      "Própria - Vermelha do Norte \n",
      "Própria - Perequê-açu \n",
      "ImprópriaIperoig \n",
      "ImprópriaItaguáAv. Leovegildo, 240\n",
      "ImprópriaItaguaAv. Leovegildo, 1724\n",
      "Própria - Tenório \n",
      "Própria - Vermelha \n",
      "Própria - Grande \n",
      "Própria - Toninhas \n",
      "Própria - Enseada \n",
      "Própria - Santa Rita \n",
      "Própria - Perequê-mirim \n",
      "Própria - Sununga \n",
      "ImprópriaLázaro \n",
      "Própria - domingas Dias \n",
      "Própria - Dura \n",
      "Própria - Fortaleza \n",
      "Própria - LagoinhaCamping\n",
      "Própria - Sapé \n",
      "Própria - Maranduba \n",
      "Própria - Pulso \n",
      "Própria - Praia das PalmasI. Anchieta\n",
      "Própria - Praia do SapateiroI. Anchieta\n",
      "Própria - Praia do PresidioI. Anchieta\n",
      "Própria - Praia do EngenhoI. Anchieta\n",
      "Própria - Praia de ForaI. Anchieta\n",
      "Própria - Praia do SulI. Anchieta\n",
      "Própria - Prainha do LesteI. Anchieta\n",
      "Atualizado em 14/04/2024\n",
      "\n"
     ]
    },
    {
     "name": "stderr",
     "output_type": "stream",
     "text": [
      "c:\\Users\\luket\\AppData\\Local\\Programs\\Python\\Python311\\Lib\\site-packages\\urllib3\\connectionpool.py:1095: InsecureRequestWarning: Unverified HTTPS request is being made to host 'praialimpa.net'. Adding certificate verification is strongly advised. See: https://urllib3.readthedocs.io/en/latest/advanced-usage.html#tls-warnings\n",
      "  warnings.warn(\n"
     ]
    }
   ],
   "source": [
    "import requests\n",
    "from bs4 import BeautifulSoup\n",
    "\n",
    "\n",
    "# URL da página que você deseja consumir\n",
    "url = 'https://praialimpa.net/sao-paulo/'\n",
    "\n",
    "\n",
    "response = requests.get(url, verify=False)\n",
    "response.encoding = 'UTF-8'\n",
    "\n",
    "if response.status_code == 200:\n",
    "    soup = BeautifulSoup(response.text, 'html.parser')\n",
    "    paragraphs = soup.find_all('section')\n",
    "    palavra = \"Ubatuba\"\n",
    "    for p in paragraphs:\n",
    "        praias_proprias = p.text.replace(\"Própria\", \"Própria - \")\n",
    "        #praias_improprias = p.text.replace(\"Imprópria\", \"Imprópria \")\n",
    "\n",
    "        if palavra in praias_proprias:\n",
    "            print(praias_proprias)\n",
    "\n",
    "else:\n",
    "    print(f\"Erro ao acessar a página: {response.status_code}\")"
   ]
  }
 ],
 "metadata": {
  "kernelspec": {
   "display_name": "Python 3",
   "language": "python",
   "name": "python3"
  },
  "language_info": {
   "codemirror_mode": {
    "name": "ipython",
    "version": 3
   },
   "file_extension": ".py",
   "mimetype": "text/x-python",
   "name": "python",
   "nbconvert_exporter": "python",
   "pygments_lexer": "ipython3",
   "version": "3.11.4"
  }
 },
 "nbformat": 4,
 "nbformat_minor": 2
}
