{
 "cells": [
  {
   "cell_type": "code",
   "execution_count": null,
   "metadata": {},
   "outputs": [],
   "source": [
    "!pip install unidecode\n",
    "!pip install beautifulsoup4"
   ]
  },
  {
   "cell_type": "code",
   "execution_count": 43,
   "metadata": {},
   "outputs": [
    {
     "name": "stdout",
     "output_type": "stream",
     "text": [
      "{'Rio Perequê\\xa0': 'Própria'}\n",
      "{'Rio Perequê\\xa0': 'Própria'}\n",
      "{'BoracéiaR. Cubatão': 'Própria'}\n",
      "{'Veloso\\xa0': 'Própria'}\n",
      "{'EnseadaR. Costabili': 'Própria'}\n",
      "{'Guaiúba\\xa0': 'Própria'}\n",
      "{'José MeninoR. F. Ozanan': 'Própria'}\n",
      "{'PrainhaAv. S. Brito': 'Imprópria'}\n",
      "{'Jardim Solemar\\xa0': 'Própria'}\n",
      "{'Flórida Mirim\\xa0': 'Própria'}\n",
      "{'Flórida Mirim\\xa0': 'Própria'}\n",
      "{'Guaraú\\xa0': 'Própria'}\n",
      "{'Guaraú\\xa0': 'Própria'}\n",
      "{'Lagoa do Parque Linear\\xa0': 'Própria'}\n",
      "{'Rio Perequê\\xa0': 'Própria'}\n"
     ]
    }
   ],
   "source": [
    "import requests\n",
    "from bs4 import BeautifulSoup\n",
    "import warnings\n",
    "\n",
    "\n",
    "# URL da página que você deseja consumir\n",
    "url = 'https://praialimpa.net/sao-paulo/'\n",
    "\n",
    "#Lista de praias para buscar\n",
    "praias = [\"Ubatuba, Caraguatatuba\", \"São Sebastião\", \"Ilhabela\", \"Bertioga\", \"Guarujá\", \"Santos\", \"São Vicente\", \"Praia Grande\", \"Mongaguá\", \"Itanhaéma\", \"Peruíbe\", \"Ilha Comprida\", \"Cubatão\"]\n",
    "\n",
    "#Para ignorar o aviso de warnings\n",
    "warnings.filterwarnings(\"ignore\", message=\"Unverified HTTPS request\")\n",
    "\n",
    "response = requests.get(url, verify=False)\n",
    "response.encoding = 'UTF-8'\n",
    "\n",
    "if response.status_code == 200:\n",
    "    soup = BeautifulSoup(response.text, 'html.parser')\n",
    "    paragraphs = soup.find_all('section')\n",
    "    for p in paragraphs:\n",
    "        texto_formatado = p.text.replace('Própria', 'Própria - ').replace('Imprópria', 'Imprópria - ')\n",
    "        for praia in praias:\n",
    "            if praia in texto_formatado:\n",
    "                palavras = texto_formatado.splitlines()\n",
    "                for linha in palavras:\n",
    "                    if linha.startswith(\"Imprópria\") or linha.startswith(\"Própria\"):\n",
    "                        palavra_impropria_propria = linha.split(\" - \")[0]\n",
    "                        nome_da_praia = linha.split(\" - \")[1]\n",
    "                        \n",
    "                break\n",
    "        dic_propria_impropria = []\n",
    "        dic_propria_impropria.append(palavra_impropria_propria)  \n",
    "        dic_nome_praia = []\n",
    "        dic_nome_praia.append(nome_da_praia)\n",
    "        dicionario = dict(zip(dic_nome_praia, dic_propria_impropria))\n",
    "        print(dicionario)\n",
    "\n",
    "                        #print(palavra_impropria_propria)\n",
    "\n",
    "                \n",
    "\n",
    "else:\n",
    "    print(f\"Erro ao acessar a página: {response.status_code}\")\n",
    "\n",
    "\n",
    "def criarDicPraia(dic1, di2):\n",
    "\n",
    "\n",
    "    return None"
   ]
  },
  {
   "cell_type": "code",
   "execution_count": null,
   "metadata": {},
   "outputs": [],
   "source": []
  }
 ],
 "metadata": {
  "kernelspec": {
   "display_name": "Python 3",
   "language": "python",
   "name": "python3"
  },
  "language_info": {
   "codemirror_mode": {
    "name": "ipython",
    "version": 3
   },
   "file_extension": ".py",
   "mimetype": "text/x-python",
   "name": "python",
   "nbconvert_exporter": "python",
   "pygments_lexer": "ipython3",
   "version": "3.10.9"
  }
 },
 "nbformat": 4,
 "nbformat_minor": 2
}
