{
 "cells": [
  {
   "cell_type": "code",
   "execution_count": null,
   "metadata": {},
   "outputs": [],
   "source": [
    "!pip install unidecode\n",
    "!pip install beautifulsoup4"
   ]
  },
  {
   "cell_type": "code",
   "execution_count": 51,
   "metadata": {},
   "outputs": [
    {
     "name": "stdout",
     "output_type": "stream",
     "text": [
      "{'Prainha': 'Imprópria', 'Armação': 'Própria', 'BoracéiaSul': 'Própria', 'Iporanga': 'Própria', 'Ponta da Praia': 'Própria', 'Praia da Divisa': 'Própria', 'Canto do Forte': 'Própria', 'ItapoãVila S. Paulo': 'Própria', 'PeruíbeAv. S. João': 'Própria', 'Balneário Adriana': 'Própria', 'Rio Perequê': 'Própria'}\n"
     ]
    }
   ],
   "source": [
    "import requests\n",
    "from bs4 import BeautifulSoup\n",
    "import warnings\n",
    "\n",
    "\n",
    "# URL da página que você deseja consumir\n",
    "url = 'https://praialimpa.net/sao-paulo/'\n",
    "\n",
    "# Lista de praias para buscar\n",
    "praias = [\"Ubatuba, Caraguatatuba\", \"São Sebastião\", \"Ilhabela\", \"Bertioga\", \"Guarujá\", \"Santos\", \"São Vicente\", \"Praia Grande\", \"Mongaguá\", \"Itanhaéma\", \"Peruíbe\", \"Ilha Comprida\", \"Cubatão\"]\n",
    "\n",
    "# Para ignorar o aviso de warnings\n",
    "warnings.filterwarnings(\"ignore\", message=\"Unverified HTTPS request\")\n",
    "\n",
    "response = requests.get(url, verify=False)\n",
    "response.encoding = 'UTF-8'\n",
    "\n",
    "if response.status_code == 200:\n",
    "    soup = BeautifulSoup(response.text, 'html.parser')\n",
    "    paragraphs = soup.find_all('section')\n",
    "\n",
    "    # Dicionário final para armazenar todas as praias e suas condições\n",
    "    dicionario_final = {}\n",
    "\n",
    "    for p in paragraphs:\n",
    "        texto_formatado = p.text.replace('Própria', 'Própria - ').replace('Imprópria', 'Imprópria - ')\n",
    "\n",
    "        for praia in praias:\n",
    "            if praia in texto_formatado:\n",
    "                palavras = texto_formatado.splitlines()\n",
    "\n",
    "                for linha in palavras:\n",
    "                    if linha.startswith(\"Imprópria\") or linha.startswith(\"Própria\"):\n",
    "                        palavra_impropria_propria = linha.split(\" - \")[0]\n",
    "                        nome_da_praia = linha.split(\" - \")[1]\n",
    "                        nome_praia2 = nome_da_praia.replace('\\xa0', '')\n",
    "\n",
    "                        # Atualiza o dicionário final com a condição da praia\n",
    "                        dicionario_final[nome_praia2] = palavra_impropria_propria\n",
    "\n",
    "                        break\n",
    "\n",
    "    # Imprime o dicionário final\n",
    "    print(dicionario_final)\n",
    "    \n",
    "else:\n",
    "    print(f\"Erro ao acessar a página: {response.status_code}\")\n",
    "\n",
    "    "
   ]
  },
  {
   "cell_type": "code",
   "execution_count": null,
   "metadata": {},
   "outputs": [],
   "source": []
  }
 ],
 "metadata": {
  "kernelspec": {
   "display_name": "Python 3",
   "language": "python",
   "name": "python3"
  },
  "language_info": {
   "codemirror_mode": {
    "name": "ipython",
    "version": 3
   },
   "file_extension": ".py",
   "mimetype": "text/x-python",
   "name": "python",
   "nbconvert_exporter": "python",
   "pygments_lexer": "ipython3",
   "version": "3.10.9"
  }
 },
 "nbformat": 4,
 "nbformat_minor": 2
}
