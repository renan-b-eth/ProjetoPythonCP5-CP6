{
 "cells": [
  {
   "cell_type": "code",
   "execution_count": 1,
   "metadata": {},
   "outputs": [
    {
     "name": "stdout",
     "output_type": "stream",
     "text": [
      "Collecting unidecode\n",
      "  Downloading Unidecode-1.3.8-py3-none-any.whl (235 kB)\n",
      "     ------------------------------------- 235.5/235.5 kB 15.0 MB/s eta 0:00:00\n",
      "Installing collected packages: unidecode\n",
      "Successfully installed unidecode-1.3.8\n",
      "Requirement already satisfied: beautifulsoup4 in c:\\programdata\\anaconda3\\lib\\site-packages (4.12.2)\n",
      "Requirement already satisfied: soupsieve>1.2 in c:\\programdata\\anaconda3\\lib\\site-packages (from beautifulsoup4) (2.4)\n"
     ]
    }
   ],
   "source": [
    "!pip install unidecode\n",
    "!pip install beautifulsoup4"
   ]
  },
  {
   "cell_type": "code",
   "execution_count": 2,
   "metadata": {},
   "outputs": [
    {
     "name": "stdout",
     "output_type": "stream",
     "text": [
      "{' - Ubatuba - Própria - Picinguaba\\xa0 - Própria - Lagoa Prumirim\\xa0 - Própria - Prumirim\\xa0 - Própria - Félix\\xa0 - Própria - Itamambuca\\xa0 - Própria - Rio Itamambuca\\xa0 - Própria - Vermelha do Norte\\xa0 - Própria - Perequê-açu\\xa0 - Própria - Iperoig\\xa0 - Imprópria - ItaguáAv. Leovegildo, 240 - Imprópria - ItaguaAv. Leovegildo, 1724 - Própria - Tenório\\xa0 - Própria - Vermelha\\xa0 - Própria - Grande\\xa0 - Própria - Toninhas\\xa0 - Própria - Enseada\\xa0 - Própria - Santa Rita\\xa0 - Própria - Perequê-mirim\\xa0 - Própria - Sununga\\xa0 - Própria - Lázaro\\xa0 - Própria - domingas Dias\\xa0 - Própria - Dura\\xa0 - Própria - Fortaleza\\xa0 - Própria - LagoinhaCamping - Própria - Sapé\\xa0 - Própria - Maranduba\\xa0 - Própria - Pulso\\xa0 - Própria - Praia das PalmasI. Anchieta - Própria - Praia do SapateiroI. Anchieta - Própria - Praia do PresidioI. Anchieta - Própria - Praia do EngenhoI. Anchieta - Própria - Praia de ForaI. Anchieta - Própria - Praia do SulI. Anchieta - Própria - Prainha do LesteI. Anchieta - Atualizado em 12/05/2024 - ': '\\nUbatuba\\nPrópria - Picinguaba\\xa0\\nPrópria - Lagoa Prumirim\\xa0\\nPrópria - Prumirim\\xa0\\nPrópria - Félix\\xa0\\nPrópria - Itamambuca\\xa0\\nPrópria - Rio Itamambuca\\xa0\\nPrópria - Vermelha do Norte\\xa0\\nPrópria - Perequê-açu\\xa0\\nPrópria - Iperoig\\xa0\\nImprópria - ItaguáAv. Leovegildo, 240\\nImprópria - ItaguaAv. Leovegildo, 1724\\nPrópria - Tenório\\xa0\\nPrópria - Vermelha\\xa0\\nPrópria - Grande\\xa0\\nPrópria - Toninhas\\xa0\\nPrópria - Enseada\\xa0\\nPrópria - Santa Rita\\xa0\\nPrópria - Perequê-mirim\\xa0\\nPrópria - Sununga\\xa0\\nPrópria - Lázaro\\xa0\\nPrópria - domingas Dias\\xa0\\nPrópria - Dura\\xa0\\nPrópria - Fortaleza\\xa0\\nPrópria - LagoinhaCamping\\nPrópria - Sapé\\xa0\\nPrópria - Maranduba\\xa0\\nPrópria - Pulso\\xa0\\nPrópria - Praia das PalmasI. Anchieta\\nPrópria - Praia do SapateiroI. Anchieta\\nPrópria - Praia do PresidioI. Anchieta\\nPrópria - Praia do EngenhoI. Anchieta\\nPrópria - Praia de ForaI. Anchieta\\nPrópria - Praia do SulI. Anchieta\\nPrópria - Prainha do LesteI. Anchieta\\nAtualizado em 12/05/2024\\n'}\n",
      "{'Picinguaba\\nPrópria': ' - Ubatuba - Própria', ' - Caraguatatuba - Própria - TabatingaCond. Gaivotas - Própria - Mocoóca\\xa0 - Própria - Cocanha\\xa0 - Própria - MassaguaçuAv. M. H. Carvalho - Própria - Capricórnio\\xa0 - Própria - Lagoa Azul\\xa0 - Própria - Martim de Sá\\xa0 - Própria - Prainha\\xa0 - Própria - Centro\\xa0 - Própria - Indaiá\\xa0 - Própria - Pan Brasil\\xa0 - Própria - Palmeiras\\xa0 - Própria - Porto Novo\\xa0 - Atualizado em 12/05/2024 - ': '\\nCaraguatatuba\\nPrópria - TabatingaCond. Gaivotas\\nPrópria - Mocoóca\\xa0\\nPrópria - Cocanha\\xa0\\nPrópria - MassaguaçuAv. M. H. Carvalho\\nPrópria - Capricórnio\\xa0\\nPrópria - Lagoa Azul\\xa0\\nPrópria - Martim de Sá\\xa0\\nPrópria - Prainha\\xa0\\nPrópria - Centro\\xa0\\nPrópria - Indaiá\\xa0\\nPrópria - Pan Brasil\\xa0\\nPrópria - Palmeiras\\xa0\\nPrópria - Porto Novo\\xa0\\nAtualizado em 12/05/2024\\n'}\n",
      "{'TabatingaCond. Gaivotas\\nPrópria': ' - Caraguatatuba - Própria', ' - São Sebastião - Imprópria - Prainha\\xa0 - Própria - Cigarras\\xa0 - Imprópria - São Francisco\\xa0 - Própria - Arrastão\\xa0 - Própria - Pontal da Cruz\\xa0 - Própria - deserta\\xa0 - Própria - Porto Grande\\xa0 - Própria - Preta do Norte\\xa0 - Própria - Grande\\xa0 - Própria - Barequeçaba\\xa0 - Própria - Guaecá\\xa0 - Própria - Toque-toque Grande\\xa0 - Própria - Toque-toque Pequeno\\xa0 - Própria - Santiago\\xa0 - Própria - Paúba\\xa0 - Própria - MaresiasTrav. Xv - Própria - Boiçucanga\\xa0 - Própria - Camburizinho\\xa0 - Própria - Camburi\\xa0 - Própria - Baleia\\xa0 - Própria - Saí\\xa0 - Própria - Preta\\xa0 - Própria - JuqueíR. Cristiana - Própria - Una\\xa0 - Própria - Engenho\\xa0 - Própria - Juréia do Norte\\xa0 - Própria - BoracéiaR. Cubatão - Atualizado em 12/05/2024 - ': '\\nSão Sebastião\\nImprópria - Prainha\\xa0\\nPrópria - Cigarras\\xa0\\nImprópria - São Francisco\\xa0\\nPrópria - Arrastão\\xa0\\nPrópria - Pontal da Cruz\\xa0\\nPrópria - deserta\\xa0\\nPrópria - Porto Grande\\xa0\\nPrópria - Preta do Norte\\xa0\\nPrópria - Grande\\xa0\\nPrópria - Barequeçaba\\xa0\\nPrópria - Guaecá\\xa0\\nPrópria - Toque-toque Grande\\xa0\\nPrópria - Toque-toque Pequeno\\xa0\\nPrópria - Santiago\\xa0\\nPrópria - Paúba\\xa0\\nPrópria - MaresiasTrav. Xv\\nPrópria - Boiçucanga\\xa0\\nPrópria - Camburizinho\\xa0\\nPrópria - Camburi\\xa0\\nPrópria - Baleia\\xa0\\nPrópria - Saí\\xa0\\nPrópria - Preta\\xa0\\nPrópria - JuqueíR. Cristiana\\nPrópria - Una\\xa0\\nPrópria - Engenho\\xa0\\nPrópria - Juréia do Norte\\xa0\\nPrópria - BoracéiaR. Cubatão\\nAtualizado em 12/05/2024\\n'}\n",
      "{'Prainha\\nPrópria': ' - São Sebastião - Imprópria', \" - Ilhabela - Própria - Armação\\xa0 - Própria - Pinto\\xa0 - Própria - Sino\\xa0 - Própria - Siriúba\\xa0 - Própria - Viana\\xa0 - Própria - Barreiros Norte\\xa0 - Própria - Barreiros Sul\\xa0 - Própria - Saco da Capela\\xa0 - Própria - Engenho D'água\\xa0 - Própria - Itaquanduba\\xa0 - Própria - Itaguaçu\\xa0 - Própria - Perequê\\xa0 - Imprópria - Ilha das Cabras\\xa0 - Própria - Portinho\\xa0 - Própria - Feiticeira\\xa0 - Própria - Julião\\xa0 - Própria - Grande\\xa0 - Própria - Curral\\xa0 - Própria - Veloso\\xa0 - Atualizado em 12/05/2024 - \": \"\\nIlhabela\\nPrópria - Armação\\xa0\\nPrópria - Pinto\\xa0\\nPrópria - Sino\\xa0\\nPrópria - Siriúba\\xa0\\nPrópria - Viana\\xa0\\nPrópria - Barreiros Norte\\xa0\\nPrópria - Barreiros Sul\\xa0\\nPrópria - Saco da Capela\\xa0\\nPrópria - Engenho D'água\\xa0\\nPrópria - Itaquanduba\\xa0\\nPrópria - Itaguaçu\\xa0\\nPrópria - Perequê\\xa0\\nImprópria - Ilha das Cabras\\xa0\\nPrópria - Portinho\\xa0\\nPrópria - Feiticeira\\xa0\\nPrópria - Julião\\xa0\\nPrópria - Grande\\xa0\\nPrópria - Curral\\xa0\\nPrópria - Veloso\\xa0\\nAtualizado em 12/05/2024\\n\"}\n",
      "{'Armação\\nPrópria': ' - Ilhabela - Própria', ' - Bertioga - Própria - BoracéiaSul - Própria - Guaratuba\\xa0 - Própria - São LourençoR. 2 - Própria - EnseadaR. Costabili - Atualizado em 12/05/2024 - ': '\\nBertioga\\nPrópria - BoracéiaSul\\nPrópria - Guaratuba\\xa0\\nPrópria - São LourençoR. 2\\nPrópria - EnseadaR. Costabili\\nAtualizado em 12/05/2024\\n'}\n",
      "{'BoracéiaSul\\nPrópria': ' - Bertioga - Própria', ' - Guarujá - Própria - Iporanga\\xa0 - Imprópria - Perequê\\xa0 - Própria - Pernambuco\\xa0 - Própria - EnseadaAv. Sta. Maria - Própria - PitangueirasR. S. Valadão - Própria - Astúrias\\xa0 - Própria - Tombo\\xa0 - Própria - Guaiúba\\xa0 - Atualizado em 12/05/2024 - ': '\\nGuarujá\\nPrópria - Iporanga\\xa0\\nImprópria - Perequê\\xa0\\nPrópria - Pernambuco\\xa0\\nPrópria - EnseadaAv. Sta. Maria\\nPrópria - PitangueirasR. S. Valadão\\nPrópria - Astúrias\\xa0\\nPrópria - Tombo\\xa0\\nPrópria - Guaiúba\\xa0\\nAtualizado em 12/05/2024\\n'}\n",
      "{'Iporanga\\nImprópria': ' - Guarujá - Própria', ' - Santos - Própria - Ponta da Praia\\xa0 - Própria - Aparecida\\xa0 - Própria - Embaré\\xa0 - Própria - Boqueirão\\xa0 - Própria - Gonzaga\\xa0 - Própria - José MeninoR. F. Ozanan - Atualizado em 12/05/2024 - ': '\\nSantos\\nPrópria - Ponta da Praia\\xa0\\nPrópria - Aparecida\\xa0\\nPrópria - Embaré\\xa0\\nPrópria - Boqueirão\\xa0\\nPrópria - Gonzaga\\xa0\\nPrópria - José MeninoR. F. Ozanan\\nAtualizado em 12/05/2024\\n'}\n",
      "{'Ponta da Praia\\nPrópria': ' - Santos - Própria', ' - São Vicente - Própria - Praia da Divisa\\xa0 - Própria - ItararéPosto 2 - Própria - Praia da Ilha Porchat\\xa0 - Imprópria - Milionários\\xa0 - Imprópria - Gonzaguinha\\xa0 - Imprópria - PrainhaAv. S. Brito - Atualizado em 12/05/2024 - ': '\\nSão Vicente\\nPrópria - Praia da Divisa\\xa0\\nPrópria - ItararéPosto 2\\nPrópria - Praia da Ilha Porchat\\xa0\\nImprópria - Milionários\\xa0\\nImprópria - Gonzaguinha\\xa0\\nImprópria - PrainhaAv. S. Brito\\nAtualizado em 12/05/2024\\n'}\n",
      "{'Praia da Divisa\\nPrópria': ' - São Vicente - Própria', ' - Praia Grande - Própria - Canto do Forte\\xa0 - Imprópria - Boqueirão\\xa0 - Própria - Guilhermina\\xa0 - Própria - Aviação\\xa0 - Própria - Vila Tupi\\xa0 - Própria - Ocian\\xa0 - Própria - Vila Mirim\\xa0 - Própria - Maracanã\\xa0 - Própria - Vila Caiçara\\xa0 - Própria - Real\\xa0 - Própria - Balneário Flórida\\xa0 - Própria - Jardim Solemar\\xa0 - Atualizado em 12/05/2024 - ': '\\nPraia Grande\\nPrópria - Canto do Forte\\xa0\\nImprópria - Boqueirão\\xa0\\nPrópria - Guilhermina\\xa0\\nPrópria - Aviação\\xa0\\nPrópria - Vila Tupi\\xa0\\nPrópria - Ocian\\xa0\\nPrópria - Vila Mirim\\xa0\\nPrópria - Maracanã\\xa0\\nPrópria - Vila Caiçara\\xa0\\nPrópria - Real\\xa0\\nPrópria - Balneário Flórida\\xa0\\nPrópria - Jardim Solemar\\xa0\\nAtualizado em 12/05/2024\\n'}\n",
      "{'Canto do Forte\\nImprópria': ' - Praia Grande - Própria', ' - Mongaguá - Própria - ItapoãVila S. Paulo - Própria - Central\\xa0 - Própria - Vera Cruz\\xa0 - Própria - Santa Eugênia\\xa0 - Própria - Itaóca\\xa0 - Própria - Agenor de Campos\\xa0 - Própria - Flórida Mirim\\xa0 - Atualizado em 12/05/2024 - ': '\\nMongaguá\\nPrópria - ItapoãVila S. Paulo\\nPrópria - Central\\xa0\\nPrópria - Vera Cruz\\xa0\\nPrópria - Santa Eugênia\\xa0\\nPrópria - Itaóca\\xa0\\nPrópria - Agenor de Campos\\xa0\\nPrópria - Flórida Mirim\\xa0\\nAtualizado em 12/05/2024\\n'}\n",
      "{'ItapoãVila S. Paulo\\nPrópria': ' - Mongaguá - Própria', ' - Itanhaém - Própria - Campos Elíseos\\xa0 - Própria - SuarãoAfpesp - Própria - Parque Balneário\\xa0 - Própria - Centro\\xa0 - Própria - Praia dos Pescadores\\xa0 - Própria - Sonho\\xa0 - Própria - Jardim Cibratel\\xa0 - Própria - Estância Balneária\\xa0 - Própria - Jardim São Fernando\\xa0 - Própria - Jardim Regina\\xa0 - Própria - Balneário Gaivota\\xa0 - Atualizado em 12/05/2024 - ': '\\nItanhaém\\nPrópria - Campos Elíseos\\xa0\\nPrópria - SuarãoAfpesp\\nPrópria - Parque Balneário\\xa0\\nPrópria - Centro\\xa0\\nPrópria - Praia dos Pescadores\\xa0\\nPrópria - Sonho\\xa0\\nPrópria - Jardim Cibratel\\xa0\\nPrópria - Estância Balneária\\xa0\\nPrópria - Jardim São Fernando\\xa0\\nPrópria - Jardim Regina\\xa0\\nPrópria - Balneário Gaivota\\xa0\\nAtualizado em 12/05/2024\\n'}\n",
      "{'Campos Elíseos\\nPrópria': ' - Itanhaém - Própria', ' - Peruíbe - Própria - PeruíbeAv. S. João - Própria - Prainha\\xa0 - Própria - Guaraú\\xa0 - Atualizado em 12/05/2024 - ': '\\nPeruíbe\\nPrópria - PeruíbeAv. S. João\\nPrópria - Prainha\\xa0\\nPrópria - Guaraú\\xa0\\nAtualizado em 12/05/2024\\n'}\n",
      "{'PeruíbeAv. S. João\\nPrópria': ' - Peruíbe - Própria', ' - Iguape - Própria - Juréia\\xa0 - Atualizado em 21/04/2024 - ': '\\nIguape\\nPrópria - Juréia\\xa0\\nAtualizado em 21/04/2024\\n'}\n",
      "{'Juréia\\nAtualizado em 21/04/2024\\n': ' - Iguape - Própria', ' - Ilha Comprida - Própria - Balneário Adriana\\xa0 - Própria - Centro\\xa0 - Própria - Pontal\\xa0 - Própria - PrainhaBalsa - Própria - Lagoa Balneário Adriana\\xa0 - Própria - Lagoa do Parque Linear\\xa0 - Atualizado em 21/04/2024 - ': '\\nIlha Comprida\\nPrópria - Balneário Adriana\\xa0\\nPrópria - Centro\\xa0\\nPrópria - Pontal\\xa0\\nPrópria - PrainhaBalsa\\nPrópria - Lagoa Balneário Adriana\\xa0\\nPrópria - Lagoa do Parque Linear\\xa0\\nAtualizado em 21/04/2024\\n'}\n",
      "{'Balneário Adriana\\nPrópria': ' - Ilha Comprida - Própria', ' - Cubatão - Própria - Rio Perequê\\xa0 - Atualizado em 14/04/2024 - ': '\\nCubatão\\nPrópria - Rio Perequê\\xa0\\nAtualizado em 14/04/2024\\n'}\n"
     ]
    }
   ],
   "source": [
    "import requests\n",
    "from bs4 import BeautifulSoup\n",
    "import warnings\n",
    "\n",
    "\n",
    "# URL da página que você deseja consumir\n",
    "url = 'https://praialimpa.net/sao-paulo/'\n",
    "\n",
    "# Lista de praias para buscar\n",
    "praias = [\"Ubatuba, Caraguatatuba\", \"São Sebastião\", \"Ilhabela\", \"Bertioga\", \"Guarujá\", \"Santos\", \"São Vicente\", \"Praia Grande\", \"Mongaguá\", \"Itanhaéma\", \"Peruíbe\", \"Ilha Comprida\", \"Cubatão\"]\n",
    "\n",
    "# Para ignorar o aviso de warnings\n",
    "warnings.filterwarnings(\"ignore\", message=\"Unverified HTTPS request\")\n",
    "\n",
    "response = requests.get(url, verify=False)\n",
    "response.encoding = 'UTF-8'\n",
    "\n",
    "if response.status_code == 200:\n",
    "    soup = BeautifulSoup(response.text, 'html.parser')\n",
    "    paragraphs = soup.find_all('section')\n",
    "\n",
    "    # Dicionário final para armazenar todas as praias e suas condições\n",
    "    dicionario_final = {}\n",
    "    dic = {}\n",
    "    dic3 = {}\n",
    "    dicformatado = {}\n",
    "\n",
    "    for p in paragraphs:\n",
    "        texto_formatado = p.text.replace('Própria', 'Própria - ').replace('Imprópria', 'Imprópria - ')\n",
    "        texto_formatado2 = texto_formatado.replace('\\n', ' - ')\n",
    "        dic3[texto_formatado2] = texto_formatado\n",
    "        print(dic3)\n",
    "        propria = texto_formatado.split(\" - \")[0]\n",
    "        proria2 = propria.replace('\\n', ' - ')\n",
    "        nome_da_praia = texto_formatado.split(\" - \")[1]\n",
    "        nome_praia_certo = nome_da_praia.replace('\\xa0', '')\n",
    "        dic[nome_praia_certo] = proria2\n",
    "        ultimo_valor_dic =  list(dic.values())[-1]\n",
    "        dic3 = {}\n",
    "        dic3[nome_praia_certo] = ultimo_valor_dic\n",
    "        #dic3.values() para puxar os valores\n",
    "        # list(dic3.values())[0] puxa o valor especifico\n",
    "        \n",
    "\n",
    "        for praia in praias:\n",
    "            if praia in texto_formatado:\n",
    "                palavras = texto_formatado.splitlines()\n",
    "\n",
    "                for linha in palavras:\n",
    "                    if linha.startswith(\"Imprópria\") or linha.startswith(\"Própria\"):\n",
    "                        palavra_impropria_propria = linha.split(\" - \")[0]\n",
    "                        nome_da_praia = linha.split(\" - \")[1]\n",
    "                        nome_praia2 = nome_da_praia.replace('\\xa0', '')\n",
    "\n",
    "                        # Atualiza o dicionário final com a condição da praia\n",
    "                        dicionario_final[nome_praia2] = palavra_impropria_propria\n",
    "\n",
    "                        break\n",
    "\n",
    "    # Imprime o dicionário final\n",
    "    #print(dicionario_final)\n",
    "    \n",
    "else:\n",
    "    print(f\"Erro ao acessar a página: {response.status_code}\")\n",
    "\n",
    "    "
   ]
  },
  {
   "cell_type": "code",
   "execution_count": 8,
   "metadata": {},
   "outputs": [
    {
     "name": "stdout",
     "output_type": "stream",
     "text": [
      "Prainha, Imprópria\n",
      "Prainha, Própria\n",
      "Prainha, Própria\n",
      "Prainha, Própria\n",
      "Prainha, Própria\n",
      "Prainha, Própria\n",
      "Prainha, Própria\n",
      "Prainha, Própria\n",
      "Prainha, Própria\n",
      "Prainha, Própria\n",
      "Prainha, Própria\n"
     ]
    }
   ],
   "source": [
    "def busca_praia(dicionario_final):\n",
    "    nomePraia = input(\"Digite o nome da praia\")\n",
    "\n",
    "    value_key={}\n",
    "\n",
    "    for key, value in dicionario_final.items():\n",
    "        if nomePraia in dicionario_final:\n",
    "            print(f'{nomePraia}, {value}')\n",
    "\n",
    "busca_praia(dicionario_final)\n"
   ]
  }
 ],
 "metadata": {
  "kernelspec": {
   "display_name": "Python 3",
   "language": "python",
   "name": "python3"
  },
  "language_info": {
   "codemirror_mode": {
    "name": "ipython",
    "version": 3
   },
   "file_extension": ".py",
   "mimetype": "text/x-python",
   "name": "python",
   "nbconvert_exporter": "python",
   "pygments_lexer": "ipython3",
   "version": "3.11.4"
  }
 },
 "nbformat": 4,
 "nbformat_minor": 2
}
