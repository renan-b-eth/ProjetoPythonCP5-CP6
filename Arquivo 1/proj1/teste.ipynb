{
 "cells": [
  {
   "cell_type": "code",
   "execution_count": 23,
   "metadata": {},
   "outputs": [
    {
     "name": "stdout",
     "output_type": "stream",
     "text": [
      "{'mensagem': 'Bem vindo a API de pesquisa'}\n"
     ]
    }
   ],
   "source": [
    "import requests\n",
    "\n",
    "# Teste da rota GET\n",
    "response = requests.get('http://127.0.0.1:5000/')\n",
    "print(response.json())"
   ]
  },
  {
   "cell_type": "code",
   "execution_count": 26,
   "metadata": {},
   "outputs": [
    {
     "name": "stdout",
     "output_type": "stream",
     "text": [
      "<Response [200]>\n"
     ]
    }
   ],
   "source": [
    "import requests\n",
    "\n",
    "# Teste da rota POST\n",
    "data = {\n",
    "    \"email\": \"teste@teste.com\",\n",
    "    \"marca\": \"honda\",\n",
    "    \"cor\": \"prata\",\n",
    "    \"valor\": 25000,\n",
    "    \"carro\": \"fit\"\n",
    "}\n",
    "response = requests.post('http://127.0.0.1:5000/pesquisa', json=data)\n",
    "\n",
    "print(response)\n",
    "# print(response.json())\n"
   ]
  },
  {
   "cell_type": "code",
   "execution_count": 31,
   "metadata": {},
   "outputs": [
    {
     "name": "stdout",
     "output_type": "stream",
     "text": [
      "ao todo temos 7 veiculos cadastrados\n"
     ]
    }
   ],
   "source": [
    "import requests\n",
    "\n",
    "# Teste da rota POST\n",
    "response = requests.get('http://127.0.0.1:5000/pesquisa')\n",
    "\n",
    "lista = response.json()\n",
    "print(f'ao todo temos {len(lista)} veiculos cadastrados')\n",
    "\n"
   ]
  },
  {
   "cell_type": "code",
   "execution_count": 24,
   "metadata": {},
   "outputs": [
    {
     "name": "stdout",
     "output_type": "stream",
     "text": [
      "{'carro': 'hrv', 'cor': 'vermelho', 'email': 'teste@email.com', 'marca': 'honda', 'valor': '22'}\n"
     ]
    }
   ],
   "source": [
    "import requests\n",
    "\n",
    "email = 'teste@email.com'\n",
    "# Teste da rota POST\n",
    "response = requests.get('http://127.0.0.1:5000/pesquisa/'+email)\n",
    "\n",
    "print(response.json())\n"
   ]
  },
  {
   "cell_type": "code",
   "execution_count": 25,
   "metadata": {},
   "outputs": [
    {
     "name": "stdout",
     "output_type": "stream",
     "text": [
      "[{'email': 'exemplo@email.com', 'brand': 'Ford', 'color': 'Azul', 'value': '25000', 'car': 'Fiesta'}, {'email': 'exemplo@email.com', 'brand': 'Ford', 'color': 'Azul', 'value': '25000', 'car': 'Fiesta'}, {'email': 'exemplo@email.com', 'brand': 'Fodddrd', 'color': 'Azul', 'value': '25000', 'car': 'Fiesta'}, {'email': 'exemplo@email.com', 'brand': 'Fodddrd', 'color': 'Azul', 'value': '25000', 'car': 'Fiesta'}, {'email': 'teste@email.com', 'brand': 'honda', 'color': 'vermelho', 'value': '22', 'car': 'hrv'}, {'email': 'exemplo@email.com', 'brand': 'Fodfoiiiiddrd', 'color': 'Azul', 'value': '25000', 'car': 'Fiesta'}]\n"
     ]
    }
   ],
   "source": [
    "import csv\n",
    "researches = []\n",
    "with open('pesquisas-api.csv', 'r', newline='') as csvfile:\n",
    "    reader = csv.reader(csvfile)\n",
    "    for row in reader:\n",
    "        researches.append({'email': row[0], 'brand': row[1], 'color': row[2], 'value': row[3], 'car': row[4]})\n",
    "print(researches)"
   ]
  }
 ],
 "metadata": {
  "kernelspec": {
   "display_name": "Python 3",
   "language": "python",
   "name": "python3"
  },
  "language_info": {
   "codemirror_mode": {
    "name": "ipython",
    "version": 3
   },
   "file_extension": ".py",
   "mimetype": "text/x-python",
   "name": "python",
   "nbconvert_exporter": "python",
   "pygments_lexer": "ipython3",
   "version": "3.9.6"
  }
 },
 "nbformat": 4,
 "nbformat_minor": 2
}
