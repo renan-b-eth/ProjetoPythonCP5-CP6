{
 "cells": [
  {
   "cell_type": "code",
   "execution_count": 1,
   "metadata": {},
   "outputs": [
    {
     "name": "stderr",
     "output_type": "stream",
     "text": [
      "/Users/arnaldoalvesvianajunior/Library/Python/3.9/lib/python/site-packages/urllib3/__init__.py:34: NotOpenSSLWarning: urllib3 v2.0 only supports OpenSSL 1.1.1+, currently the 'ssl' module is compiled with 'LibreSSL 2.8.3'. See: https://github.com/urllib3/urllib3/issues/3020\n",
      "  warnings.warn(\n"
     ]
    }
   ],
   "source": [
    "import requests\n",
    "import bs4\n",
    "from key import api_key"
   ]
  },
  {
   "cell_type": "code",
   "execution_count": 2,
   "metadata": {},
   "outputs": [],
   "source": [
    "def raspa_veja():\n",
    "    response = requests.get('https://veja.abril.com.br/')\n",
    "    soup = bs4.BeautifulSoup(response.text, 'html.parser')\n",
    "    mais_lidas = soup.find_all('section', {'class': 'block most-read dark'})\n",
    "    conteudos = mais_lidas[0].find_all('div', {'class': 'our-carousel-item'})\n",
    "    noticias = []\n",
    "\n",
    "    for conteudo in conteudos:\n",
    "        titulo = conteudo.find('h2').text\n",
    "        link = conteudo.find('a').get('href')\n",
    "        noticias.append(f\"{titulo}\\n{link}\")\n",
    "        \n",
    "    return \"\\n\\n\".join(noticias)"
   ]
  },
  {
   "cell_type": "code",
   "execution_count": 3,
   "metadata": {},
   "outputs": [
    {
     "name": "stdout",
     "output_type": "stream",
     "text": [
      "1 A dificuldade de Maitê Proença em vender imóvel perto do Copacabana Palace\n",
      "https://veja.abril.com.br/coluna/veja-gente/a-dificuldade-de-maite-proenca-em-vender-imovel-perto-do-copacabana-palace/\n",
      "\n",
      "2 O polpudo cachê de Madonna para se apresentar na Praia de Copacabana\n",
      "https://veja.abril.com.br/coluna/o-som-e-a-furia/o-polpudo-cache-de-madonna-para-se-apresentar-na-praia-de-copacabana/\n",
      "\n",
      "3 Presidente da Alerj tem derrota unânime no TRE em jogada contra Castro\n",
      "https://veja.abril.com.br/politica/presidente-da-alerj-tem-derrota-unanime-no-tre-em-jogada-contra-castro/\n",
      "\n",
      "4 O que o futuro guarda para Eliana — segundo a versão original de Renascer\n",
      "https://veja.abril.com.br/coluna/tela-plana/o-que-o-futuro-aguarda-para-eliana-segundo-a-versao-original-de-renascer/\n",
      "\n",
      "5 A ironia ‘ideológica’ na escolha do ator que faz Nelson Piquet em ‘Senna’\n",
      "https://veja.abril.com.br/coluna/tela-plana/a-ironia-picante-na-escolha-do-ator-que-faz-nelson-piquet-em-senna/\n",
      "\n",
      "6 Quem foi o tenente da Rota classificado como herói pela PM de SP\n",
      "https://veja.abril.com.br/coluna/maquiavel/quem-foi-o-tenente-da-rota-classificado-como-heroi-pela-pm-de-sp/\n",
      "\n",
      "7 As atrações do Rock in Rio que decepcionaram o público\n",
      "https://veja.abril.com.br/coluna/virou-viral/as-atracoes-do-rock-in-rio-que-decepcionaram-o-publico/\n",
      "\n",
      "8 A cena forte que vai ao ar em ‘Renascer’ – e não existia na trama original\n",
      "https://veja.abril.com.br/coluna/tela-plana/a-cena-forte-que-vai-ao-ar-em-renascer-e-nao-existia-na-trama-original/\n",
      "\n",
      "9 Referências de mercado, as 60 empresas que lideram seus setores no Brasil\n",
      "https://veja.abril.com.br/economia/referencias-de-mercado-as-60-empresas-que-lideram-seus-setores-no-brasil/\n",
      "\n",
      "10 Chuvas: governador alerta para ‘maior desastre da história’ do RS\n",
      "https://veja.abril.com.br/brasil/governador-do-rs-alerta-para-maior-desastre-da-historia-do-estado/\n"
     ]
    }
   ],
   "source": [
    "manchetes = raspa_veja()\n",
    "\n",
    "print(manchetes)"
   ]
  },
  {
   "cell_type": "code",
   "execution_count": 5,
   "metadata": {},
   "outputs": [
    {
     "name": "stdout",
     "output_type": "stream",
     "text": [
      "{'coord': {'lon': -46.6361, 'lat': -23.5475}, 'weather': [{'id': 800, 'main': 'Clear', 'description': 'clear sky', 'icon': '01d'}], 'base': 'stations', 'main': {'temp': 30.69, 'feels_like': 30.94, 'temp_min': 29.91, 'temp_max': 31.2, 'pressure': 1014, 'humidity': 43}, 'visibility': 10000, 'wind': {'speed': 7.2, 'deg': 320}, 'clouds': {'all': 0}, 'dt': 1714666503, 'sys': {'type': 2, 'id': 2033898, 'country': 'BR', 'sunrise': 1714642048, 'sunset': 1714682360}, 'timezone': -10800, 'id': 3448439, 'name': 'São Paulo', 'cod': 200}\n",
      "31.98\n"
     ]
    }
   ],
   "source": [
    "def get_tempo(cidade):\n",
    "    apikey = api_key # Substitua 'sua_chave_api_aqui' pela sua chave API real\n",
    "    url = f\"http://api.openweathermap.org/data/2.5/weather?q={cidade}&appid={apikey}&units=metric\"\n",
    "    \n",
    "    try:\n",
    "        response = requests.get(url)\n",
    "        response.raise_for_status()  # Levanta uma exceção para respostas 4XX ou 5XX\n",
    "        weather_data = response.json()\n",
    "        return weather_data\n",
    "    except requests.RequestException as e:\n",
    "        print(e)\n",
    "        return None\n",
    "\n",
    "print(get_tempo(\"São Paulo\"))\n",
    "print(get_tempo(\"Rio de Janeiro\")['main']['temp'])"
   ]
  }
 ],
 "metadata": {
  "kernelspec": {
   "display_name": "Python 3",
   "language": "python",
   "name": "python3"
  },
  "language_info": {
   "codemirror_mode": {
    "name": "ipython",
    "version": 3
   },
   "file_extension": ".py",
   "mimetype": "text/x-python",
   "name": "python",
   "nbconvert_exporter": "python",
   "pygments_lexer": "ipython3",
   "version": "3.9.6"
  }
 },
 "nbformat": 4,
 "nbformat_minor": 2
}
