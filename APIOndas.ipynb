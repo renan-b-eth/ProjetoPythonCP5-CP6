{
 "cells": [
  {
   "cell_type": "code",
   "execution_count": 1,
   "metadata": {},
   "outputs": [],
   "source": [
    "import requests\n",
    "from requests.packages.urllib3.exceptions import InsecureRequestWarning\n"
   ]
  },
  {
   "cell_type": "code",
   "execution_count": 3,
   "metadata": {},
   "outputs": [],
   "source": [
    "# Desativa os avisos de solicitação insegura\n",
    "requests.packages.urllib3.disable_warnings(InsecureRequestWarning)\n"
   ]
  },
  {
   "cell_type": "code",
   "execution_count": 4,
   "metadata": {},
   "outputs": [],
   "source": [
    "def consumir_api(codigo_cidade, dias):\n",
    "    url = f\"https://brasilapi.com.br/api/cptec/v1/ondas/{codigo_cidade}/{dias}\"\n",
    "    response = requests.get(url, verify=False)\n",
    "    if response.status_code == 200:\n",
    "        return response.json()\n",
    "    else:\n",
    "        return None\n",
    "\n",
    "codigo_cidade = \"241\" #rio de janeiro\n",
    "dias = \"1\"\n"
   ]
  },
  {
   "cell_type": "code",
   "execution_count": 5,
   "metadata": {},
   "outputs": [
    {
     "name": "stdout",
     "output_type": "stream",
     "text": [
      "Hora: 00:00Z, Vento: 5.7, Altura Onda: 0.9\n",
      "Hora: 03:00Z, Vento: 5.4, Altura Onda: 0.7\n",
      "Hora: 06:00Z, Vento: 3.5, Altura Onda: 0.7\n",
      "Hora: 09:00Z, Vento: 3.4, Altura Onda: 0.6\n",
      "Hora: 12:00Z, Vento: 3.1, Altura Onda: 0.7\n",
      "Hora: 15:00Z, Vento: 4.6, Altura Onda: 0.7\n",
      "Hora: 18:00Z, Vento: 4.8, Altura Onda: 0.8\n",
      "Hora: 21:00Z, Vento: 4.8, Altura Onda: 1.1\n"
     ]
    }
   ],
   "source": [
    "user_data = consumir_api(codigo_cidade, dias)\n",
    "if user_data:\n",
    "    # Extraindo as chaves \"vento\" e \"altura_onda\" dos dados\n",
    "    for onda in user_data['ondas'][0]['dados_ondas']:\n",
    "        print(f\"Hora: {onda['hora']}, Vento: {onda['vento']}, Altura Onda: {onda['altura_onda']}\")\n",
    "else:\n",
    "    print(\"Cidade não encontrada usar o /endpoint\")"
   ]
  }
 ],
 "metadata": {
  "kernelspec": {
   "display_name": "Python 3",
   "language": "python",
   "name": "python3"
  },
  "language_info": {
   "codemirror_mode": {
    "name": "ipython",
    "version": 3
   },
   "file_extension": ".py",
   "mimetype": "text/x-python",
   "name": "python",
   "nbconvert_exporter": "python",
   "pygments_lexer": "ipython3",
   "version": "3.11.4"
  }
 },
 "nbformat": 4,
 "nbformat_minor": 2
}
