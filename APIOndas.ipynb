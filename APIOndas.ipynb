{
 "cells": [
  {
   "cell_type": "code",
   "execution_count": 3,
   "metadata": {},
   "outputs": [],
   "source": [
    "import requests\n",
    "from requests.packages.urllib3.exceptions import InsecureRequestWarning\n"
   ]
  },
  {
   "cell_type": "code",
   "execution_count": 4,
   "metadata": {},
   "outputs": [],
   "source": [
    "# Desativa os avisos de solicitação insegura\n",
    "requests.packages.urllib3.disable_warnings(InsecureRequestWarning)\n"
   ]
  },
  {
   "cell_type": "code",
   "execution_count": 22,
   "metadata": {},
   "outputs": [],
   "source": [
    "\n",
    "def buscar_id_cidade(cidade):\n",
    "  url = f\"https://brasilapi.com.br/api/cptec/v1/cidade/{cidade}\"\n",
    "  response = requests.get(url, verify=False)\n",
    "\n",
    "  if response.status_code == 200:\n",
    "    try:\n",
    "      id_cidade = response.json()\n",
    "      return id_cidade[0]['id']\n",
    "    except KeyError:\n",
    "      print(f\"Erro ao buscar ID da cidade: {cidade}\")\n",
    "      return None\n",
    "  else:\n",
    "    print(f\"Falha ao buscar cidade: {cidade} (código de status: {response.status_code})\")\n",
    "    return None\n"
   ]
  },
  {
   "cell_type": "code",
   "execution_count": 23,
   "metadata": {},
   "outputs": [
    {
     "name": "stdout",
     "output_type": "stream",
     "text": [
      "4748\n"
     ]
    }
   ],
   "source": [
    "print(buscar_id_cidade(\"Santos\"))"
   ]
  },
  {
   "cell_type": "code",
   "execution_count": 30,
   "metadata": {},
   "outputs": [],
   "source": [
    "def consumir_api(nome_cidade, dias):\n",
    "    url = f\"https://brasilapi.com.br/api/cptec/v1/ondas/{buscar_id_cidade(nome_cidade)}/{dias}\"\n",
    "    response = requests.get(url, verify=False)\n",
    "    if response.status_code == 200:\n",
    "        return response.json()\n",
    "    else:\n",
    "        return None\n",
    "\n",
    "nome_cidade = input(str(\"Digite cidade:\")) #rio de janeiro\n",
    "dias = input(\"Quantidade de dias:\")\n"
   ]
  },
  {
   "cell_type": "code",
   "execution_count": 31,
   "metadata": {},
   "outputs": [
    {
     "name": "stdout",
     "output_type": "stream",
     "text": [
      "Falha ao buscar cidade: Caneneia (código de status: 404)\n",
      "Cidade não encontrada usar o /endpoint\n"
     ]
    }
   ],
   "source": [
    "user_data = consumir_api(nome_cidade, dias)\n",
    "if user_data:\n",
    "    # Extraindo as chaves \"vento\" e \"altura_onda\" dos dados\n",
    "        for onda in user_data['ondas'][0]['dados_ondas']:\n",
    "            print(f\"Hora: {onda['hora']}, Vento: {onda['vento']}, Altura Onda: {onda['altura_onda']}\")\n",
    "else:\n",
    "    print(\"Cidade não encontrada usar o /endpoint\")"
   ]
  }
 ],
 "metadata": {
  "kernelspec": {
   "display_name": "Python 3",
   "language": "python",
   "name": "python3"
  },
  "language_info": {
   "codemirror_mode": {
    "name": "ipython",
    "version": 3
   },
   "file_extension": ".py",
   "mimetype": "text/x-python",
   "name": "python",
   "nbconvert_exporter": "python",
   "pygments_lexer": "ipython3",
   "version": "3.10.9"
  }
 },
 "nbformat": 4,
 "nbformat_minor": 2
}
